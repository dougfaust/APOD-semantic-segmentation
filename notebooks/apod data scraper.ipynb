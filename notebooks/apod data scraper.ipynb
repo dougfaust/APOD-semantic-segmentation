{
 "cells": [
  {
   "cell_type": "markdown",
   "id": "cbbf5150",
   "metadata": {},
   "source": [
    "## Notebook to scrape, download, and preprocess APOD images"
   ]
  },
  {
   "cell_type": "code",
   "execution_count": null,
   "id": "479223e7",
   "metadata": {},
   "outputs": [],
   "source": [
    "import glob\n",
    "from bs4 import BeautifulSoup\n",
    "import requests\n",
    "from PIL import Image\n",
    "from io import BytesIO"
   ]
  },
  {
   "cell_type": "code",
   "execution_count": null,
   "id": "5523d95d",
   "metadata": {},
   "outputs": [],
   "source": [
    "files = glob.glob('*.html')\n",
    "files"
   ]
  },
  {
   "cell_type": "code",
   "execution_count": null,
   "id": "9028b831",
   "metadata": {},
   "outputs": [],
   "source": [
    "url = files[1]\n",
    "\n",
    "soup = BeautifulSoup(open(url, encoding=\"utf8\"), \"html.parser\")\n",
    "\n",
    "img_links = [x.find_previous('a') for x in soup('img')]\n",
    "img_refs = [x['href'] for x in img_links if x]"
   ]
  },
  {
   "cell_type": "code",
   "execution_count": null,
   "id": "7c98da7a",
   "metadata": {},
   "outputs": [],
   "source": [
    "len(img_refs)"
   ]
  },
  {
   "cell_type": "code",
   "execution_count": null,
   "id": "c0d0cf55",
   "metadata": {},
   "outputs": [],
   "source": [
    "r = requests.get(img_refs[0])\n",
    "\n",
    "im_soup = BeautifulSoup(r.content, \"html.parser\")"
   ]
  },
  {
   "cell_type": "code",
   "execution_count": null,
   "id": "31f9191c",
   "metadata": {},
   "outputs": [],
   "source": [
    "url_stem = 'https://apod.nasa.gov/apod/'\n",
    "pic_url = url_stem + im_soup('img')[0].attrs['src']"
   ]
  },
  {
   "cell_type": "code",
   "execution_count": null,
   "id": "d7f43132",
   "metadata": {},
   "outputs": [],
   "source": [
    "response = requests.get(pic_url)\n",
    "img = Image.open(BytesIO(response.content))"
   ]
  },
  {
   "cell_type": "code",
   "execution_count": null,
   "id": "d9acdd40",
   "metadata": {},
   "outputs": [],
   "source": [
    "display(img)"
   ]
  },
  {
   "cell_type": "code",
   "execution_count": null,
   "id": "d915ee9f",
   "metadata": {},
   "outputs": [],
   "source": []
  }
 ],
 "metadata": {
  "kernelspec": {
   "display_name": "Python 3 (ipykernel)",
   "language": "python",
   "name": "python3"
  },
  "language_info": {
   "codemirror_mode": {
    "name": "ipython",
    "version": 3
   },
   "file_extension": ".py",
   "mimetype": "text/x-python",
   "name": "python",
   "nbconvert_exporter": "python",
   "pygments_lexer": "ipython3",
   "version": "3.8.10"
  }
 },
 "nbformat": 4,
 "nbformat_minor": 5
}
